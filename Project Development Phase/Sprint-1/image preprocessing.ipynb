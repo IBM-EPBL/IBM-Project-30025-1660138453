{
  "cells": [
    {
      "cell_type": "code",
      "execution_count": null,
      "metadata": {
        "colab": {
          "base_uri": "https://localhost:8080/"
        },
        "id": "v7GQPMLk7vVd",
        "outputId": "71bd310b-a6e2-44e4-9ce9-95b302e3122f"
      },
      "outputs": [
        {
          "output_type": "stream",
          "name": "stdout",
          "text": [
            "/content/drive/MyDrive\n"
          ]
        }
      ],
      "source": [
        "cd/content/drive/MyDrive\n"
      ]
    },
    {
      "cell_type": "code",
      "execution_count": null,
      "metadata": {
        "colab": {
          "base_uri": "https://localhost:8080/"
        },
        "id": "HkmOqYmA71IV",
        "outputId": "5bbc044b-2bf5-417f-f09c-752771b00634"
      },
      "outputs": [
        {
          "output_type": "stream",
          "name": "stdout",
          "text": [
            "Archive:  /content/drive/MyDrive/project/archive.zip\n",
            "replace Dataset/Dataset/test_set/forest/0.48007200_1530881924_final_forest.jpg? [y]es, [n]o, [A]ll, [N]one, [r]ename: N\n"
          ]
        }
      ],
      "source": [
        "!unzip '/content/drive/MyDrive/project/archive.zip'"
      ]
    },
    {
      "cell_type": "code",
      "execution_count": null,
      "metadata": {
        "id": "LpWQg1IN8wr-"
      },
      "outputs": [],
      "source": [
        "import keras\n",
        "from keras.preprocessing.image import ImageDataGenerator"
      ]
    },
    {
      "cell_type": "code",
      "execution_count": null,
      "metadata": {
        "id": "Yh5uPlUG-bQb"
      },
      "outputs": [],
      "source": [
        "train_datagen=ImageDataGenerator(rescale=1./255,\n",
        "                                 shear_range=0.2,\n",
        "                                 rotation_range=180,\n",
        "                                 zoom_range=0.2,\n",
        "                                 horizontal_flip=True)\n",
        "test_datagen=ImageDataGenerator(rescale=1./255)\n"
      ]
    },
    {
      "cell_type": "code",
      "execution_count": null,
      "metadata": {
        "id": "7YFZwRUjAism",
        "colab": {
          "base_uri": "https://localhost:8080/"
        },
        "outputId": "06baef0d-44df-4026-fe09-e9bdfc7cfde0"
      },
      "outputs": [
        {
          "output_type": "stream",
          "name": "stdout",
          "text": [
            "Found 436 images belonging to 2 classes.\n"
          ]
        }
      ],
      "source": [
        "x_train = train_datagen.flow_from_directory(r'/content/drive/MyDrive/Dataset/Dataset/train_set',\n",
        "                                        target_size =(128,128),\n",
        "                                        batch_size = 32,\n",
        "                                        class_mode ='binary')"
      ]
    },
    {
      "cell_type": "code",
      "execution_count": null,
      "metadata": {
        "id": "u1ObbxC-aCgo",
        "colab": {
          "base_uri": "https://localhost:8080/"
        },
        "outputId": "17ae699a-0fd3-4f53-faf8-1dfac5a42880"
      },
      "outputs": [
        {
          "output_type": "stream",
          "name": "stdout",
          "text": [
            "Found 121 images belonging to 2 classes.\n"
          ]
        }
      ],
      "source": [
        "x_test = train_datagen.flow_from_directory(r'/content/drive/MyDrive/Dataset/Dataset/test_set',\n",
        "                                        target_size =(128,128),\n",
        "                                        batch_size = 32,\n",
        "                                        class_mode ='binary')"
      ]
    },
    {
      "cell_type": "markdown",
      "metadata": {
        "id": "apyih76wa3Ib"
      },
      "source": [
        "model build"
      ]
    },
    {
      "cell_type": "code",
      "execution_count": null,
      "metadata": {
        "id": "3SKJs1s6aZ7-"
      },
      "outputs": [],
      "source": [
        "from keras.models import Sequential\n",
        "from keras.layers import Dense\n",
        "from keras.layers import Convolution2D\n",
        "from keras.layers import MaxPooling2D\n",
        "from keras.layers import Flatten\n",
        "import warnings\n",
        "warnings.filterwarnings('ignore')"
      ]
    },
    {
      "cell_type": "code",
      "execution_count": null,
      "metadata": {
        "id": "TyfoFsMhcUHN"
      },
      "outputs": [],
      "source": [
        "model=Sequential()"
      ]
    },
    {
      "cell_type": "markdown",
      "metadata": {
        "id": "zpq8la7ng5_o"
      },
      "source": []
    },
    {
      "cell_type": "code",
      "execution_count": null,
      "metadata": {
        "id": "f2SwEhOYc4js"
      },
      "outputs": [],
      "source": [
        "model.add(Convolution2D(32,(3,3),input_shape=(128,128,3),activation='relu'))"
      ]
    },
    {
      "cell_type": "code",
      "execution_count": null,
      "metadata": {
        "id": "VEKQ2IKfhEvg"
      },
      "outputs": [],
      "source": [
        "model.add(MaxPooling2D(pool_size=(2,2)))"
      ]
    },
    {
      "cell_type": "code",
      "execution_count": null,
      "metadata": {
        "id": "0ROV9k8ZhTVn"
      },
      "outputs": [],
      "source": [
        "model.add(Flatten())"
      ]
    },
    {
      "cell_type": "code",
      "source": [
        "model.add(Dense(150,activation='relu'))"
      ],
      "metadata": {
        "id": "nI5URQlzEIMN"
      },
      "execution_count": null,
      "outputs": []
    },
    {
      "cell_type": "code",
      "source": [
        "model.add(Dense(1,activation='sigmoid'))"
      ],
      "metadata": {
        "id": "J4alpaqOOlZ6"
      },
      "execution_count": null,
      "outputs": []
    },
    {
      "cell_type": "code",
      "source": [
        "model.compile(loss='binary_crossentropy',optimizer=\"adam\",metrics=[\"accuracy\"])"
      ],
      "metadata": {
        "id": "9qTk6JD0EqGG"
      },
      "execution_count": null,
      "outputs": []
    },
    {
      "cell_type": "code",
      "source": [
        "model.fit_generator(x_train,steps_per_epoch=14,epochs=10,validation_data=x_test,validation_steps=4)"
      ],
      "metadata": {
        "id": "QVCukb_LOJm7",
        "colab": {
          "base_uri": "https://localhost:8080/"
        },
        "outputId": "c06b84dd-021c-4494-ba3d-58ee346bee2e"
      },
      "execution_count": null,
      "outputs": [
        {
          "output_type": "stream",
          "name": "stdout",
          "text": [
            "Epoch 1/10\n",
            "14/14 [==============================] - 212s 15s/step - loss: 2.9148 - accuracy: 0.6491 - val_loss: 0.2533 - val_accuracy: 0.9091\n",
            "Epoch 2/10\n",
            "14/14 [==============================] - 29s 2s/step - loss: 0.3337 - accuracy: 0.8555 - val_loss: 0.2528 - val_accuracy: 0.8760\n",
            "Epoch 3/10\n",
            "14/14 [==============================] - 27s 2s/step - loss: 0.2814 - accuracy: 0.8578 - val_loss: 0.1655 - val_accuracy: 0.9091\n",
            "Epoch 4/10\n",
            "14/14 [==============================] - 27s 2s/step - loss: 0.2028 - accuracy: 0.9060 - val_loss: 0.0913 - val_accuracy: 0.9752\n",
            "Epoch 5/10\n",
            "14/14 [==============================] - 28s 2s/step - loss: 0.1797 - accuracy: 0.9312 - val_loss: 0.0788 - val_accuracy: 0.9835\n",
            "Epoch 6/10\n",
            "14/14 [==============================] - 26s 2s/step - loss: 0.1559 - accuracy: 0.9289 - val_loss: 0.0641 - val_accuracy: 0.9835\n",
            "Epoch 7/10\n",
            "14/14 [==============================] - 31s 2s/step - loss: 0.1552 - accuracy: 0.9358 - val_loss: 0.1620 - val_accuracy: 0.9008\n",
            "Epoch 8/10\n",
            "14/14 [==============================] - 27s 2s/step - loss: 0.1917 - accuracy: 0.9243 - val_loss: 0.1131 - val_accuracy: 0.9504\n",
            "Epoch 9/10\n",
            "14/14 [==============================] - 29s 2s/step - loss: 0.1743 - accuracy: 0.9151 - val_loss: 0.0668 - val_accuracy: 0.9752\n",
            "Epoch 10/10\n",
            "14/14 [==============================] - 27s 2s/step - loss: 0.1787 - accuracy: 0.9174 - val_loss: 0.0727 - val_accuracy: 0.9752\n"
          ]
        },
        {
          "output_type": "execute_result",
          "data": {
            "text/plain": [
              "<keras.callbacks.History at 0x7ff1c820d090>"
            ]
          },
          "metadata": {},
          "execution_count": 15
        }
      ]
    },
    {
      "cell_type": "code",
      "source": [
        "model.save(\"forest12.h5\")"
      ],
      "metadata": {
        "id": "mz410RZFpNNn"
      },
      "execution_count": null,
      "outputs": []
    },
    {
      "cell_type": "code",
      "source": [
        "from keras.models import load_model\n",
        "from tensorflow.keras.preprocessing import image\n",
        "import numpy as np\n",
        "import cv2"
      ],
      "metadata": {
        "id": "QmtDMlNwUaXN"
      },
      "execution_count": null,
      "outputs": []
    },
    {
      "cell_type": "code",
      "source": [
        "model=load_model(\"forest12.h5\")"
      ],
      "metadata": {
        "id": "prcQY65lp--K"
      },
      "execution_count": null,
      "outputs": []
    },
    {
      "cell_type": "code",
      "source": [
        "img=image.load_img('/content/drive/MyDrive/Dataset/Dataset/test_set/forest/0.64133000_1519374442_forest_deep.jpg')\n",
        "x=image.img_to_array(img)"
      ],
      "metadata": {
        "id": "m_kygJC5qLcC"
      },
      "execution_count": null,
      "outputs": []
    },
    {
      "cell_type": "code",
      "source": [
        "res=cv2.resize(x,dsize=(128,128),interpolation=cv2.INTER_CUBIC)\n",
        "x=np.expand_dims(res,axis=0)"
      ],
      "metadata": {
        "id": "_X_vfcOE9vMZ"
      },
      "execution_count": null,
      "outputs": []
    },
    {
      "cell_type": "code",
      "source": [
        "pred=model.predict(x)"
      ],
      "metadata": {
        "id": "wRyZtxLxrZdF",
        "colab": {
          "base_uri": "https://localhost:8080/"
        },
        "outputId": "2349a762-bd25-4486-cfc2-f757a5228d56"
      },
      "execution_count": null,
      "outputs": [
        {
          "output_type": "stream",
          "name": "stdout",
          "text": [
            "1/1 [==============================] - 0s 86ms/step\n"
          ]
        }
      ]
    },
    {
      "cell_type": "code",
      "source": [
        "pred"
      ],
      "metadata": {
        "id": "PW_D7FcvStcD",
        "colab": {
          "base_uri": "https://localhost:8080/"
        },
        "outputId": "4d89364c-30ec-4a82-bc03-0af5bf1774d8"
      },
      "execution_count": null,
      "outputs": [
        {
          "output_type": "execute_result",
          "data": {
            "text/plain": [
              "array([[0.]], dtype=float32)"
            ]
          },
          "metadata": {},
          "execution_count": 30
        }
      ]
    }
  ],
  "metadata": {
    "colab": {
      "provenance": []
    },
    "kernelspec": {
      "display_name": "Python 3",
      "name": "python3"
    },
    "language_info": {
      "name": "python"
    }
  },
  "nbformat": 4,
  "nbformat_minor": 0
}